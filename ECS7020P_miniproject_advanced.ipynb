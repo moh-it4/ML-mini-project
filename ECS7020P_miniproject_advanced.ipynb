{
 "cells": [
  {
   "cell_type": "markdown",
   "id": "47569e54",
   "metadata": {},
   "source": [
    "## 1. Author"
   ]
  },
  {
   "cell_type": "markdown",
   "id": "7878ab1c",
   "metadata": {},
   "source": [
    "####     Name :  Mohit yadav\n",
    "####     Student ID :210491443"
   ]
  },
  {
   "cell_type": "markdown",
   "id": "467a31dd",
   "metadata": {},
   "source": [
    "## 2. Problem formulation"
   ]
  },
  {
   "cell_type": "markdown",
   "id": "cdae1645",
   "metadata": {},
   "source": [
    "#### Problem : Identifying the song type i.e audio interpretation(Hum or Whistle) from the dataset."
   ]
  },
  {
   "cell_type": "markdown",
   "id": "aa6109dd",
   "metadata": {},
   "source": [
    "#### There are multiple interesting things about it for example:\n",
    "1.Will be able to explore multiple features related to the classification\n",
    "\n",
    "2.An application of predicting of the Live audio type can be made. "
   ]
  },
  {
   "cell_type": "markdown",
   "id": "256a1fda",
   "metadata": {},
   "source": [
    "## 3. Machine Learning pipeline"
   ]
  },
  {
   "cell_type": "markdown",
   "id": "331cf5df",
   "metadata": {},
   "source": [
    "My machine learning Pipeline contains **Input as mfccs as a feature** and **Output as Audio_type** ie audio interpretation.\n",
    "\n",
    "1.Divided the data into Train,test,validation\n",
    "\n",
    "                V\n",
    "                \n",
    "2.USing RandomForestClassifier trained the data\n",
    "\n",
    "                V\n",
    "                \n",
    "3.Predicted the Data and assessed using Classification Matrix."
   ]
  },
  {
   "cell_type": "code",
   "execution_count": null,
   "id": "e1f0d71b",
   "metadata": {},
   "outputs": [],
   "source": []
  },
  {
   "cell_type": "markdown",
   "id": "d95b6bec",
   "metadata": {},
   "source": [
    "## 4. Transformation stage\n"
   ]
  },
  {
   "cell_type": "markdown",
   "id": "1f442ca8",
   "metadata": {},
   "source": [
    "Feature -> **Mfccs as a feature is extracted from the Audio (.wav) data.**"
   ]
  },
  {
   "cell_type": "code",
   "execution_count": 181,
   "id": "a7d7bc4a",
   "metadata": {},
   "outputs": [],
   "source": [
    "def mfccs_feature_extractor(file):\n",
    "    audio, sample_rate = librosa.load(file, res_type='kaiser_fast') \n",
    "    mfccs_features = librosa.feature.mfcc(y=audio, sr=sample_rate, n_mfcc=40)\n",
    "    #Scaled mfccs to its mean\n",
    "    mfccs_scaled_features = np.mean(mfccs_features.T,axis=0)\n",
    "    \n",
    "    return mfccs_scaled_features "
   ]
  },
  {
   "cell_type": "markdown",
   "id": "b2a35544",
   "metadata": {},
   "source": [
    "As I have prior Knoweldge of data, I have explored certain features such as **Specral_centroid,Pitch,beats,tempo,Flatness and Mfccs** and have decided to proceed with Mel-frequency cepstral coefficients (MFCC) with n_mfcc =40."
   ]
  },
  {
   "cell_type": "code",
   "execution_count": 11,
   "id": "cd99e317",
   "metadata": {},
   "outputs": [],
   "source": [
    "path = \"C:/Users/04moh/OneDrive - Queen Mary, University of London/ML mini project/data/\""
   ]
  },
  {
   "cell_type": "code",
   "execution_count": 12,
   "id": "8549ee51",
   "metadata": {},
   "outputs": [
    {
     "name": "stderr",
     "output_type": "stream",
     "text": [
      "100%|██████████████████████████████████████████████████████████████████████████████████| 16/16 [10:57<00:00, 41.08s/it]\n"
     ]
    }
   ],
   "source": [
    "import os\n",
    "#Declared an empty list to store the attributes of data and its Features\n",
    "data = []\n",
    "\n",
    "for folder in tqdm(os.listdir(path)):\n",
    "    for file in os.listdir(path+\"/\"+folder):\n",
    "        Label = folder.split('/')[-1].split('_')[0] \n",
    "        \n",
    "        file_name = file.split('/')[-1]\n",
    "        \n",
    "        #This is audio file number\n",
    "        participant_ID = file.split('/')[-1].split('_')[0]   \n",
    "        \n",
    "        #This is Audio Interpretation ie the Y Label\n",
    "        audio_type = file.split('/')[-1].split('_')[1]\n",
    "        \n",
    "        #file_path is the actual path of the file\n",
    "        file_path = path+\"/\"+folder+\"/\"+file\n",
    "        \n",
    "        #This is Mfccs feature which is our X data\n",
    "        feature = mfccs_feature_extractor(file_path)\n",
    "        \n",
    "        xi = [audio_type,Label,file_name,participant_ID,feature]\n",
    "       \n",
    "        data.append(xi)\n",
    "        \n",
    "           \n",
    "       "
   ]
  },
  {
   "cell_type": "code",
   "execution_count": null,
   "id": "3cc1d7e4",
   "metadata": {},
   "outputs": [],
   "source": []
  },
  {
   "cell_type": "markdown",
   "id": "77c26e25",
   "metadata": {},
   "source": [
    "## 5. Modelling"
   ]
  },
  {
   "cell_type": "markdown",
   "id": "21ab050c",
   "metadata": {},
   "source": [
    "**ML Model used here is RandomForestClassifier from sklearn.ensemble**\n",
    "I have used this model because Random Forests implicitly perform feature selection and generate uncorrelated decision trees. It does this by choosing a random set of features to build each decision tree. This also makes it a great model when we work with a high number of features in the data."
   ]
  },
  {
   "cell_type": "code",
   "execution_count": 172,
   "id": "cecb10e0",
   "metadata": {},
   "outputs": [],
   "source": [
    "from sklearn.model_selection import train_test_split\n",
    "#Test data is stored as X_test and Y_test as 20% of the total data\n",
    "X_data,X_test,y_data,y_test=train_test_split(X,y,test_size=0.2,random_state=0)\n",
    "#Rest of the data is divided into trian and Validation in 80:20 ratio respectively\n",
    "X_train,X_val,y_train,y_val=train_test_split(X_data,y_data,test_size=0.2,random_state=0)"
   ]
  },
  {
   "cell_type": "code",
   "execution_count": 175,
   "id": "351bf6ce",
   "metadata": {},
   "outputs": [],
   "source": [
    "from sklearn.ensemble import RandomForestClassifier\n",
    "\n",
    "clf = RandomForestClassifier(n_estimators=10000)\n",
    "clf = clf.fit(X_train, y_train)\n",
    "y_pred = clf.predict(X_val)"
   ]
  },
  {
   "cell_type": "code",
   "execution_count": null,
   "id": "1609b9c6",
   "metadata": {},
   "outputs": [],
   "source": []
  },
  {
   "cell_type": "markdown",
   "id": "c2fd8c8c",
   "metadata": {},
   "source": [
    "## 6. Methodology"
   ]
  },
  {
   "cell_type": "markdown",
   "id": "09fb2380",
   "metadata": {},
   "source": [
    "**Classification Table**\n",
    "This performance evaluation metric shows precision,recall f1-score and support of the mfccs features with respect to Label.\n"
   ]
  },
  {
   "cell_type": "code",
   "execution_count": 176,
   "id": "bbdd0dd8",
   "metadata": {},
   "outputs": [
    {
     "name": "stdout",
     "output_type": "stream",
     "text": [
      "              precision    recall  f1-score   support\n",
      "\n",
      "         Hum     0.9672    1.0000    0.9833       383\n",
      "     Whistle     1.0000    0.9110    0.9534       146\n",
      "\n",
      "    accuracy                         0.9754       529\n",
      "   macro avg     0.9836    0.9555    0.9684       529\n",
      "weighted avg     0.9762    0.9754    0.9751       529\n",
      "\n"
     ]
    }
   ],
   "source": [
    "from sklearn.metrics import confusion_matrix\n",
    "\n",
    "from sklearn.metrics import classification_report\n",
    "from sklearn.metrics import accuracy_score\n",
    "\n",
    "\n",
    "print(classification_report(y_val, y_pred, digits=4))"
   ]
  },
  {
   "cell_type": "markdown",
   "id": "88aa8092",
   "metadata": {},
   "source": [
    "**Confusion Matrix clearly shows \n",
    "TP = 383,TN = 133,FP = 0, FN = 13**"
   ]
  },
  {
   "cell_type": "code",
   "execution_count": 196,
   "id": "b55aad1a",
   "metadata": {},
   "outputs": [
    {
     "name": "stdout",
     "output_type": "stream",
     "text": [
      "[[383   0]\n",
      " [ 13 133]]\n"
     ]
    }
   ],
   "source": [
    "print(confusion_matrix(y_val,y_pred))"
   ]
  },
  {
   "cell_type": "markdown",
   "id": "e5529334",
   "metadata": {},
   "source": [
    "**Accuracy score comes out to be 0.9754**"
   ]
  },
  {
   "cell_type": "code",
   "execution_count": 194,
   "id": "b672d674",
   "metadata": {},
   "outputs": [
    {
     "name": "stdout",
     "output_type": "stream",
     "text": [
      "0.9754253308128544\n"
     ]
    }
   ],
   "source": [
    "print(accuracy_score(y_val,y_pred))"
   ]
  },
  {
   "cell_type": "markdown",
   "id": "73e4def8",
   "metadata": {},
   "source": [
    "**Testing our model with the test data, accuracy comes out to be 0.9803** "
   ]
  },
  {
   "cell_type": "code",
   "execution_count": 177,
   "id": "a40a3627",
   "metadata": {},
   "outputs": [],
   "source": [
    "y_test_pred = clf.predict(X_test)"
   ]
  },
  {
   "cell_type": "code",
   "execution_count": 178,
   "id": "75602e39",
   "metadata": {},
   "outputs": [
    {
     "name": "stdout",
     "output_type": "stream",
     "text": [
      "              precision    recall  f1-score   support\n",
      "\n",
      "         Hum     0.9732    1.0000    0.9864       472\n",
      "     Whistle     1.0000    0.9312    0.9644       189\n",
      "\n",
      "    accuracy                         0.9803       661\n",
      "   macro avg     0.9866    0.9656    0.9754       661\n",
      "weighted avg     0.9809    0.9803    0.9801       661\n",
      "\n"
     ]
    }
   ],
   "source": [
    "print(classification_report(y_test, y_test_pred, digits=4))"
   ]
  },
  {
   "cell_type": "markdown",
   "id": "42d60a26",
   "metadata": {},
   "source": [
    "**A Simple application which takes input as the audio by user and predicts its audio type i.e (\"Hum\",\"Whistle\") in the form of Image.**"
   ]
  },
  {
   "cell_type": "code",
   "execution_count": 179,
   "id": "dfdd67d4",
   "metadata": {},
   "outputs": [],
   "source": [
    "import matplotlib.pyplot as plt\n",
    "import matplotlib.image as mpimg\n",
    "\n",
    "\n",
    "def my_application(audio,sample_rate):\n",
    "    \n",
    "    mfccs_features = librosa.feature.mfcc(y=audio, sr=sample_rate, n_mfcc=40)\n",
    "    feature = np.mean(mfccs_features.T,axis=0)\n",
    "    \n",
    "    X_test = np.array(feature.tolist())\n",
    "    \n",
    "    X_test = scaler.transform([X_test])\n",
    "    \n",
    "    y_pred = clf.predict(X_test)\n",
    "    \n",
    "    \n",
    "    if y_pred[0] == \"Hum\":\n",
    "        img = mpimg.imread('C:/Users/04moh/Pictures/Screenshots/hum.png')\n",
    "        imgplot = plt.imshow(img)\n",
    "        image = plt.show(imgplot)\n",
    "    else:\n",
    "        img = mpimg.imread('C:/Users/04moh/Pictures/Screenshots/whistle.png')\n",
    "        imgplot = plt.imshow(img)\n",
    "        image = plt.show(imgplot)\n",
    "        \n",
    "    return image\n",
    "    "
   ]
  },
  {
   "cell_type": "markdown",
   "id": "0c9dec12",
   "metadata": {},
   "source": [
    "## 7. Dataset"
   ]
  },
  {
   "cell_type": "markdown",
   "id": "d367a97f",
   "metadata": {},
   "source": [
    "**Combined all the data into a single Dataframe with the Input as mlmp_df[\"mfccs\"] and Output as mlmp_df[\"audio_type\"]**"
   ]
  },
  {
   "cell_type": "code",
   "execution_count": null,
   "id": "280f2bb0",
   "metadata": {},
   "outputs": [],
   "source": [
    "\n",
    "import pandas as pd\n",
    "import numpy as np\n",
    "import librosa"
   ]
  },
  {
   "cell_type": "code",
   "execution_count": 198,
   "id": "b202fc6c",
   "metadata": {},
   "outputs": [
    {
     "data": {
      "text/html": [
       "<div>\n",
       "<style scoped>\n",
       "    .dataframe tbody tr th:only-of-type {\n",
       "        vertical-align: middle;\n",
       "    }\n",
       "\n",
       "    .dataframe tbody tr th {\n",
       "        vertical-align: top;\n",
       "    }\n",
       "\n",
       "    .dataframe thead th {\n",
       "        text-align: right;\n",
       "    }\n",
       "</style>\n",
       "<table border=\"1\" class=\"dataframe\">\n",
       "  <thead>\n",
       "    <tr style=\"text-align: right;\">\n",
       "      <th></th>\n",
       "      <th>audio_type</th>\n",
       "      <th>label</th>\n",
       "      <th>song_file</th>\n",
       "      <th>number</th>\n",
       "      <th>mfccs</th>\n",
       "    </tr>\n",
       "  </thead>\n",
       "  <tbody>\n",
       "    <tr>\n",
       "      <th>0</th>\n",
       "      <td>hum</td>\n",
       "      <td>Frozen</td>\n",
       "      <td>S100_hum_2_Frozen.wav</td>\n",
       "      <td>S100</td>\n",
       "      <td>[-433.10962, 119.792656, -40.30654, 42.975502,...</td>\n",
       "    </tr>\n",
       "    <tr>\n",
       "      <th>1</th>\n",
       "      <td>hum</td>\n",
       "      <td>Frozen</td>\n",
       "      <td>S100_hum_4_Frozen.wav</td>\n",
       "      <td>S100</td>\n",
       "      <td>[-446.6019, 110.20216, -42.162487, 41.418453, ...</td>\n",
       "    </tr>\n",
       "    <tr>\n",
       "      <th>2</th>\n",
       "      <td>hum</td>\n",
       "      <td>Frozen</td>\n",
       "      <td>S101_hum_2_Frozen.wav</td>\n",
       "      <td>S101</td>\n",
       "      <td>[-533.01135, 92.67512, -50.012924, 4.7327213, ...</td>\n",
       "    </tr>\n",
       "    <tr>\n",
       "      <th>3</th>\n",
       "      <td>hum</td>\n",
       "      <td>Frozen</td>\n",
       "      <td>S101_hum_4_Frozen.wav</td>\n",
       "      <td>S101</td>\n",
       "      <td>[-611.63477, 71.22068, -22.783203, 24.81314, 3...</td>\n",
       "    </tr>\n",
       "    <tr>\n",
       "      <th>4</th>\n",
       "      <td>hum</td>\n",
       "      <td>Frozen</td>\n",
       "      <td>S102_hum_2_Frozen.wav</td>\n",
       "      <td>S102</td>\n",
       "      <td>[-412.55457, 131.74039, 34.080112, 41.141907, ...</td>\n",
       "    </tr>\n",
       "  </tbody>\n",
       "</table>\n",
       "</div>"
      ],
      "text/plain": [
       "  audio_type   label              song_file number  \\\n",
       "0        hum  Frozen  S100_hum_2_Frozen.wav   S100   \n",
       "1        hum  Frozen  S100_hum_4_Frozen.wav   S100   \n",
       "2        hum  Frozen  S101_hum_2_Frozen.wav   S101   \n",
       "3        hum  Frozen  S101_hum_4_Frozen.wav   S101   \n",
       "4        hum  Frozen  S102_hum_2_Frozen.wav   S102   \n",
       "\n",
       "                                               mfccs  \n",
       "0  [-433.10962, 119.792656, -40.30654, 42.975502,...  \n",
       "1  [-446.6019, 110.20216, -42.162487, 41.418453, ...  \n",
       "2  [-533.01135, 92.67512, -50.012924, 4.7327213, ...  \n",
       "3  [-611.63477, 71.22068, -22.783203, 24.81314, 3...  \n",
       "4  [-412.55457, 131.74039, 34.080112, 41.141907, ...  "
      ]
     },
     "execution_count": 198,
     "metadata": {},
     "output_type": "execute_result"
    }
   ],
   "source": [
    "mlmp_df = pd.DataFrame(data,columns=['audio_type','label','song_file','number','mfccs'])\n",
    "mlmp_df.head()"
   ]
  },
  {
   "cell_type": "markdown",
   "id": "f45ae2d7",
   "metadata": {},
   "source": [
    "**Cleaning the Data and removing outliers from the audio_type which are misLabelled**"
   ]
  },
  {
   "cell_type": "code",
   "execution_count": 199,
   "id": "9bbaf5d2",
   "metadata": {},
   "outputs": [
    {
     "name": "stdout",
     "output_type": "stream",
     "text": [
      "['hum' 'whistle' 'Hum' 'Hun' 'Whistle' 'Hum3' 'Hum4' 'Frozen' 'whisle'\n",
      " 'Hum 2 Frozen.wav' 'Whistle 2 Frozen.wav' 'wistle' 'Hum1' 'hakunamatata'\n",
      " 'Hum 2 Hakuna.wav' 'Whistle 2 Hakuna.wav' 'Hum2' 'mamia'\n",
      " 'Hum 1 Mamma.wav' 'Whistle 1 Mamma.wav' 'pinkpanther' 'Hum 2 Panther.wav'\n",
      " 'Whistle 1 Panther.wav' 'hum2' 'harrypotter' 'Hum 2 Potter.wav'\n",
      " 'Whistle 2 Potter.wav' 'singingintherain' 'Hum 1 Rain.wav'\n",
      " 'Whistle 2 Rain.wav' 'whislte' 'ham' 'thisisme' 'Hum 1 Showman.wav'\n",
      " 'Whistle 2 Showman.wav' 'Hum3.StarWar.wav' 'starwars'\n",
      " 'Hum 1 StarWars.wav' 'Whistle 1 StarWars.wav']\n"
     ]
    }
   ],
   "source": [
    "print(mlmp_df['audio_type'].unique())"
   ]
  },
  {
   "cell_type": "code",
   "execution_count": 200,
   "id": "2059bef8",
   "metadata": {},
   "outputs": [
    {
     "name": "stderr",
     "output_type": "stream",
     "text": [
      "<ipython-input-200-0c8416047210>:3: FutureWarning: The default value of regex will change from True to False in a future version.\n",
      "  mlmp_df['audio_type'] = mlmp_df.audio_type.str.replace(hum, 'Hum')\n",
      "<ipython-input-200-0c8416047210>:4: FutureWarning: The default value of regex will change from True to False in a future version.\n",
      "  mlmp_df['audio_type'] = mlmp_df.audio_type.str.replace(whistle, 'Whistle')\n"
     ]
    }
   ],
   "source": [
    "hum = \"hum|Hun|Hum3|Hum4|Hum 2 Frozen.wav|Hum2|Hum 2 Hakuna.wav|Hum1|Hum 1 Mamma.wav|Hum 2 Potter.wav|Hum 2 Panther.wav|Hum 1 Rain.wav|ham|Hum 1 StarWars.wav|Hum.StarWar.wav|Hum 1 Showman.wav\"\n",
    "whistle = \"whistle|whisle|wistle|whislte\"\n",
    "mlmp_df['audio_type'] = mlmp_df.audio_type.str.replace(hum, 'Hum')\n",
    "mlmp_df['audio_type'] = mlmp_df.audio_type.str.replace(whistle, 'Whistle')"
   ]
  },
  {
   "cell_type": "code",
   "execution_count": 201,
   "id": "fff0fba0",
   "metadata": {},
   "outputs": [],
   "source": [
    "mlmp_df = mlmp_df.drop(mlmp_df[(mlmp_df.audio_type != 'Hum') & (mlmp_df.audio_type != 'Whistle')].index)"
   ]
  },
  {
   "cell_type": "markdown",
   "id": "d191d878",
   "metadata": {},
   "source": [
    "**Preparing the Input and Output data for modelling stage**"
   ]
  },
  {
   "cell_type": "code",
   "execution_count": 202,
   "id": "7c46b2a6",
   "metadata": {},
   "outputs": [
    {
     "data": {
      "text/plain": [
       "(3303, 40)"
      ]
     },
     "execution_count": 202,
     "metadata": {},
     "output_type": "execute_result"
    }
   ],
   "source": [
    "X = np.array(mlmp_df['mfccs'].tolist())\n",
    "y = np.array(mlmp_df[\"audio_type\"].tolist())\n",
    "X.shape"
   ]
  },
  {
   "cell_type": "code",
   "execution_count": 203,
   "id": "1eaec9e0",
   "metadata": {},
   "outputs": [
    {
     "data": {
      "text/plain": [
       "(3303,)"
      ]
     },
     "execution_count": 203,
     "metadata": {},
     "output_type": "execute_result"
    }
   ],
   "source": [
    "y.shape"
   ]
  },
  {
   "cell_type": "markdown",
   "id": "7c10d67b",
   "metadata": {},
   "source": [
    "**Scaling down the features using Min Max Scaler**"
   ]
  },
  {
   "cell_type": "code",
   "execution_count": 205,
   "id": "15b41a42",
   "metadata": {},
   "outputs": [],
   "source": [
    "from sklearn.preprocessing import MinMaxScaler\n",
    "scaler = MinMaxScaler()\n",
    "fitting = scaler.fit(X,y)\n",
    "X = scaler.transform(X)"
   ]
  },
  {
   "cell_type": "markdown",
   "id": "9497d678",
   "metadata": {},
   "source": [
    "**Visualising the data with the audio_type as Label**"
   ]
  },
  {
   "cell_type": "code",
   "execution_count": 206,
   "id": "11dcc0f9",
   "metadata": {},
   "outputs": [
    {
     "data": {
      "image/png": "[encoded data removed]",
      "text/plain": [
       "<Figure size 432x288 with 1 Axes>"
      ]
     },
     "metadata": {
      "needs_background": "light"
     },
     "output_type": "display_data"
    }
   ],
   "source": [
    "from numpy import where\n",
    "from collections import Counter\n",
    "from sklearn.datasets import make_blobs\n",
    "from matplotlib import pyplot\n",
    "counter = Counter(y)\n",
    "for label, _ in counter.items():\n",
    "    row_ix = where(y == label)\n",
    "    pyplot.scatter(X[row_ix, 0], X[row_ix, 1], label=str(label))\n",
    "pyplot.legend()\n",
    "pyplot.show()"
   ]
  },
  {
   "cell_type": "code",
   "execution_count": null,
   "id": "92e5081c",
   "metadata": {},
   "outputs": [],
   "source": []
  },
  {
   "cell_type": "markdown",
   "id": "27df25d2",
   "metadata": {},
   "source": [
    "## 8. Results"
   ]
  },
  {
   "cell_type": "code",
   "execution_count": 209,
   "id": "afc8db4d",
   "metadata": {},
   "outputs": [
    {
     "name": "stdout",
     "output_type": "stream",
     "text": [
      "Recording Audio\n",
      "Audio recording complete , Play Audio\n",
      "Play Audio Complete\n"
     ]
    }
   ],
   "source": [
    "import sounddevice as sd\n",
    "import numpy as np\n",
    "import scipy.io.wavfile as wav\n",
    "\n",
    "fs=44100\n",
    "duration = 5  # seconds\n",
    "myrecording = sd.rec(duration * fs, samplerate=fs,channels = 1,dtype='float64')\n",
    "print(\"Recording Audio\")\n",
    "sd.wait()\n",
    "print(\"Audio recording complete , Play Audio\")\n",
    "sd.play(myrecording, fs)\n",
    "sd.wait()\n",
    "print(\"Play Audio Complete\")\n",
    "audio = myrecording[:,-1]\n"
   ]
  },
  {
   "cell_type": "code",
   "execution_count": 210,
   "id": "af8c3dcf",
   "metadata": {},
   "outputs": [
    {
     "data": {
      "image/png": "[encoded data removed]",
      "text/plain": [
       "<Figure size 432x288 with 1 Axes>"
      ]
     },
     "metadata": {
      "needs_background": "light"
     },
     "output_type": "display_data"
    }
   ],
   "source": [
    "my_application(audio,fs)"
   ]
  },
  {
   "cell_type": "markdown",
   "id": "51fff285",
   "metadata": {},
   "source": [
    "### The program accurately predicts the audio input and prints out the Interpretation Type"
   ]
  },
  {
   "cell_type": "markdown",
   "id": "0ca32b2f",
   "metadata": {},
   "source": [
    "## 9. Conclusions"
   ]
  },
  {
   "cell_type": "markdown",
   "id": "1ca3ea3a",
   "metadata": {},
   "source": [
    "**Couple of Improvements can be made**\n",
    "**.     1.  If its the mixture of hum and whistle as the input the program gives different output**\n",
    "**.     2.  Could have classified even the song label i.e.(Harry,starwars etc) with more data availability**\n"
   ]
  }
 ],
 "metadata": {
  "kernelspec": {
   "display_name": "Python 3",
   "language": "python",
   "name": "python3"
  },
  "language_info": {
   "codemirror_mode": {
    "name": "ipython",
    "version": 3
   },
   "file_extension": ".py",
   "mimetype": "text/x-python",
   "name": "python",
   "nbconvert_exporter": "python",
   "pygments_lexer": "ipython3",
   "version": "3.8.8"
  }
 },
 "nbformat": 4,
 "nbformat_minor": 5
}
